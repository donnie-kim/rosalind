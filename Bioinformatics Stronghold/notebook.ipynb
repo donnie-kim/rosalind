{
 "cells": [
  {
   "cell_type": "code",
   "execution_count": 3,
   "metadata": {},
   "outputs": [
    {
     "data": {
      "text/plain": [
       "(20, 12, 17, 21)"
      ]
     },
     "execution_count": 3,
     "metadata": {},
     "output_type": "execute_result"
    }
   ],
   "source": [
    "def qt(s):\n",
    "    return s.count(\"A\"), s.count(\"C\"), s.count(\"G\"), s.count(\"T\")\n",
    "\n",
    "\n",
    "s = \"AGCTTTTCATTCTGACTGCAACGGGCAATATGTCTCTGTGTGGATTAAAAAAAGAGTGTCTGATAGCAGC\"\n",
    "qt(s)"
   ]
  },
  {
   "cell_type": "code",
   "execution_count": 10,
   "metadata": {},
   "outputs": [
    {
     "name": "stdout",
     "output_type": "stream",
     "text": [
      "The total number of rabbit pairs after 5 months is: 19\n"
     ]
    }
   ],
   "source": [
    "def rabbit_pairs(n, k):\n",
    "    if n == 1 or n == 2:\n",
    "        return 1\n",
    "\n",
    "    # Initialize the sequence with initial conditions\n",
    "    seq = [1, 1]\n",
    "\n",
    "    # Generate terms using the modified recurrence relation\n",
    "    for i in range(2, n):\n",
    "        seq.append(seq[i - 1] + (k * seq[i - 2]))\n",
    "\n",
    "    return seq[-1]\n",
    "\n",
    "\n",
    "# Example: n = 5, k = 3\n",
    "n_months = 5\n",
    "litter_size = 3\n",
    "total_rabbits = rabbit_pairs(n_months, litter_size)\n",
    "\n",
    "print(f\"The total number of rabbit pairs after {n_months} months is: {total_rabbits}\")"
   ]
  },
  {
   "cell_type": "code",
   "execution_count": 1,
   "metadata": {},
   "outputs": [
    {
     "name": "stdout",
     "output_type": "stream",
     "text": [
      "T\n"
     ]
    }
   ],
   "source": [
    "s = \"CATCGTAATGACGGCCT\"\n",
    "print(s[2])"
   ]
  },
  {
   "cell_type": "markdown",
   "metadata": {},
   "source": [
    "# Point mutations\n"
   ]
  },
  {
   "cell_type": "code",
   "execution_count": 2,
   "metadata": {},
   "outputs": [
    {
     "name": "stdout",
     "output_type": "stream",
     "text": [
      "467\n"
     ]
    }
   ],
   "source": [
    "def point_mutations(s, t):\n",
    "    hamming_distance = 0\n",
    "    for i in range(len(s)):\n",
    "        if t[i] != s[i]:\n",
    "            hamming_distance = hamming_distance + 1\n",
    "    return hamming_distance\n",
    "\n",
    "\n",
    "file = open(\"rosalind_hamm.txt\", \"r\")\n",
    "lines = file.read().splitlines()\n",
    "\n",
    "seq1 = lines[0]\n",
    "seq2 = lines[1]\n",
    "\n",
    "hamming = point_mutations(seq1, seq2)\n",
    "print(hamming)"
   ]
  },
  {
   "cell_type": "code",
   "execution_count": 4,
   "metadata": {},
   "outputs": [
    {
     "name": "stdout",
     "output_type": "stream",
     "text": [
      "467\n"
     ]
    }
   ],
   "source": [
    "def point_mutations(s, t):\n",
    "    hamming_distance = 0\n",
    "    for i in range(len(s)):\n",
    "        if t[i] != s[i]:\n",
    "            hamming_distance += 1\n",
    "    return hamming_distance\n",
    "\n",
    "\n",
    "file = open(\"rosalind_hamm.txt\", \"r\")\n",
    "seq1 = file.readline().strip()\n",
    "seq2 = file.readline().strip()\n",
    "\n",
    "hamming = point_mutations(seq1, seq2)\n",
    "print(hamming)"
   ]
  },
  {
   "cell_type": "code",
   "execution_count": 5,
   "metadata": {},
   "outputs": [
    {
     "name": "stdout",
     "output_type": "stream",
     "text": [
      "467\n"
     ]
    }
   ],
   "source": [
    "def point_mutations(s, t):\n",
    "    hamming_distance = 0\n",
    "    for i in range(len(s)):\n",
    "        if t[i] != s[i]:\n",
    "            hamming_distance += 1\n",
    "    return hamming_distance\n",
    "\n",
    "\n",
    "with open(\"rosalind_hamm.txt\", \"r\") as file:\n",
    "    seq1 = file.readline().strip()\n",
    "    seq2 = file.readline().strip()\n",
    "\n",
    "hamming = point_mutations(seq1, seq2)\n",
    "print(hamming)"
   ]
  },
  {
   "cell_type": "markdown",
   "metadata": {},
   "source": [
    "# Dominance\n"
   ]
  },
  {
   "cell_type": "code",
   "execution_count": 44,
   "metadata": {},
   "outputs": [
    {
     "name": "stdout",
     "output_type": "stream",
     "text": [
      "0.8333333333333333\n"
     ]
    }
   ],
   "source": [
    "def dominance(k, m, n):\n",
    "    dominant_alleles = 2 * k + 1 * m + 0 * n\n",
    "    recessive_alleles = 0 * k + 1 * m + 2 * n\n",
    "    total_alleles = dominant_alleles + recessive_alleles\n",
    "    pk = (dominant_alleles / total_alleles) * (\n",
    "        (dominant_alleles - 1) / (total_alleles - 1)\n",
    "    )\n",
    "    pm1 = (dominant_alleles / total_alleles) * (recessive_alleles / (total_alleles - 1))\n",
    "    pm2 = (recessive_alleles / total_alleles) * (dominant_alleles / (total_alleles - 1))\n",
    "    pn = (recessive_alleles / total_alleles) * (\n",
    "        (recessive_alleles - 1) / (total_alleles - 1)\n",
    "    )\n",
    "    probability_km = pk + pm1 + pm2\n",
    "    return probability_km\n",
    "\n",
    "\n",
    "file = open(\"rosalind_iprb.txt\", \"r\")\n",
    "nums = file.read().split()\n",
    "k = int(nums[0])\n",
    "m = int(nums[1])\n",
    "n = int(nums[2])\n",
    "\n",
    "# print(dominance(k, m, n))\n",
    "print(dominance(0, 2, 0))"
   ]
  },
  {
   "cell_type": "code",
   "execution_count": 48,
   "metadata": {},
   "outputs": [
    {
     "data": {
      "text/plain": [
       "0.7523923444976076"
      ]
     },
     "execution_count": 48,
     "metadata": {},
     "output_type": "execute_result"
    }
   ],
   "source": [
    "def DominantProbability(homoDom, hetero, homoRec):\n",
    "    counts = (homoDom, hetero, homoRec)\n",
    "    denom = sum(counts) * (sum(counts) - 1)\n",
    "    probabilities = ((1.0, 1.0, 1.0), (1.0, 0.75, 0.5), (1.0, 0.5, 0.0))\n",
    "\n",
    "    dominantProbability = 0\n",
    "    for i in range(len(counts)):\n",
    "        for j in range(len(counts)):\n",
    "            second = counts[j] - 1 if i == j else counts[j]\n",
    "            dominantProbability += probabilities[i][j] * counts[i] * second / denom\n",
    "    return dominantProbability\n",
    "\n",
    "\n",
    "DominantProbability(28, 21, 28)"
   ]
  },
  {
   "cell_type": "code",
   "execution_count": 49,
   "metadata": {},
   "outputs": [
    {
     "name": "stdout",
     "output_type": "stream",
     "text": [
      "0.7833333333333333\n"
     ]
    }
   ],
   "source": [
    "def dominance(k, m, n):\n",
    "    total_individuals = k + m + n\n",
    "\n",
    "    DDDDo = (k / total_individuals) * ((k - 1) / (total_individuals - 1))\n",
    "    DDDd = (k / total_individuals) * (m / (total_individuals - 1))\n",
    "    DdDD = (m / total_individuals) * (k / (total_individuals - 1))\n",
    "    DdDd = (m / total_individuals) * ((m - 1) / (total_individuals - 1)) * (3 / 4)\n",
    "    DDdd = (k / total_individuals) * (n / (total_individuals - 1))\n",
    "    ddDD = (n / total_individuals) * (k / (total_individuals - 1))\n",
    "    Dddd = (m / total_individuals) * (n / (total_individuals - 1)) * (1 / 2)\n",
    "    ddDd = (n / total_individuals) * (m / (total_individuals - 1)) * (1 / 2)\n",
    "    dddd = (n / total_individuals) * ((n - 1) / (total_individuals - 1)) * (0)\n",
    "\n",
    "    probability_dominant = DDDDo + DDDd + DdDD + DdDd + DDdd + ddDD + Dddd + ddDd + dddd\n",
    "    return probability_dominant\n",
    "\n",
    "\n",
    "print(dominance(2, 2, 2))"
   ]
  },
  {
   "cell_type": "markdown",
   "metadata": {},
   "source": [
    "# Find motifs"
   ]
  },
  {
   "cell_type": "code",
   "execution_count": 4,
   "metadata": {},
   "outputs": [
    {
     "data": {
      "text/plain": [
       "1"
      ]
     },
     "execution_count": 4,
     "metadata": {},
     "output_type": "execute_result"
    }
   ],
   "source": [
    "seq = \"GATATATGCATATACTT\"\n",
    "sub = \"ATAT\"\n",
    "start = count = 0\n",
    "seq.find(sub)"
   ]
  }
 ],
 "metadata": {
  "kernelspec": {
   "display_name": "py3.11.5",
   "language": "python",
   "name": "python3"
  },
  "language_info": {
   "codemirror_mode": {
    "name": "ipython",
    "version": 3
   },
   "file_extension": ".py",
   "mimetype": "text/x-python",
   "name": "python",
   "nbconvert_exporter": "python",
   "pygments_lexer": "ipython3",
   "version": "3.12.0"
  }
 },
 "nbformat": 4,
 "nbformat_minor": 2
}
